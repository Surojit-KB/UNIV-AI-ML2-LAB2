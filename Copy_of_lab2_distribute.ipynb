{
  "nbformat": 4,
  "nbformat_minor": 0,
  "metadata": {
    "colab": {
      "name": "Copy of lab2_distribute.ipynb",
      "provenance": [],
      "collapsed_sections": [],
      "include_colab_link": true
    },
    "kernelspec": {
      "name": "python3",
      "display_name": "Python 3"
    }
  },
  "cells": [
    {
      "cell_type": "markdown",
      "metadata": {
        "id": "view-in-github",
        "colab_type": "text"
      },
      "source": [
        "<a href=\"https://colab.research.google.com/github/Surojit-KB/UNIV-AI-ML2-LAB2/blob/main/Copy_of_lab2_distribute.ipynb\" target=\"_parent\"><img src=\"https://colab.research.google.com/assets/colab-badge.svg\" alt=\"Open In Colab\"/></a>"
      ]
    },
    {
      "cell_type": "markdown",
      "metadata": {
        "id": "fy-FK_3JsSiC"
      },
      "source": [
        "# Lab 2: Digit Recognition with LogReg/RF/GBT\n",
        "### Univ.AI \n",
        "### ML-2 Cohort-1\n"
      ]
    },
    {
      "cell_type": "code",
      "metadata": {
        "id": "wizOucwiNNA2"
      },
      "source": [
        "#Import libraries\n",
        "import time\n",
        "import numpy as np\n",
        "import pandas as pd \n",
        "import matplotlib.pyplot as plt\n",
        "import seaborn as sns\n",
        "from sklearn import datasets\n",
        "from collections import OrderedDict\n",
        "from sklearn.metrics import confusion_matrix, accuracy_score\n",
        "from sklearn.model_selection import train_test_split\n",
        "from sklearn.model_selection import GridSearchCV\n",
        "from sklearn.linear_model import LogisticRegression\n",
        "from sklearn.ensemble import RandomForestClassifier\n",
        "from sklearn.ensemble import GradientBoostingClassifier\n",
        "%matplotlib inline"
      ],
      "execution_count": null,
      "outputs": []
    },
    {
      "cell_type": "markdown",
      "metadata": {
        "id": "dvt8EsWQvXm3"
      },
      "source": [
        "## Load the data"
      ]
    },
    {
      "cell_type": "code",
      "metadata": {
        "id": "97GKkVoPvaNv"
      },
      "source": [
        "dataset = datasets.load_digits()\n",
        "\n",
        "X = dataset.data\n",
        "y = dataset.target\n",
        "\n",
        "X_train, X_test, y_train, y_test = train_test_split(X, y, test_size=0.2,random_state=0)\n",
        "X_train = X_train/255.0\n",
        "X_test = X_test/255.0"
      ],
      "execution_count": null,
      "outputs": []
    },
    {
      "cell_type": "code",
      "metadata": {
        "id": "XmYXxGfHGaLK",
        "colab": {
          "base_uri": "https://localhost:8080/",
          "height": 283
        },
        "outputId": "ad783b87-732d-43da-bf14-4fbd9fccd8f3"
      },
      "source": [
        "plt.figure(figsize=(20,4))\n",
        "for index, (image, label) in enumerate(zip(dataset.data[0:5], dataset.target[0:5])):\n",
        " plt.subplot(1, 5, index + 1)\n",
        " plt.imshow(np.reshape(image, (8,8)), cmap=plt.cm.gray)\n",
        " plt.title('Training: %i\\n' % label, fontsize = 20)"
      ],
      "execution_count": null,
      "outputs": [
        {
          "output_type": "display_data",
          "data": {
            "image/png": "[encoded data removed]",
            "text/plain": [
              "<Figure size 1440x288 with 5 Axes>"
            ]
          },
          "metadata": {
            "tags": [],
            "needs_background": "light"
          }
        }
      ]
    },
    {
      "cell_type": "markdown",
      "metadata": {
        "id": "lyruMtSLs5D7"
      },
      "source": [
        "## Modelling"
      ]
    },
    {
      "cell_type": "code",
      "metadata": {
        "id": "2oTLBf1FJ25C"
      },
      "source": [
        "#Define a function to plot confusion matrix \n",
        "def plot_confusion_matrix(y_true, y_pred):\n",
        "    mtx = confusion_matrix(y_true, y_pred)\n",
        "    fig, ax = plt.subplots(figsize=(8,8))\n",
        "    sns.heatmap(mtx, annot=True, fmt='d', linewidths=.5,  cbar=False, ax=ax)\n",
        "    plt.ylabel('true label')\n",
        "    plt.xlabel('predicted label')"
      ],
      "execution_count": null,
      "outputs": []
    },
    {
      "cell_type": "markdown",
      "metadata": {
        "id": "RbhFHLpNtnBv"
      },
      "source": [
        "### Logistic Regression"
      ]
    },
    {
      "cell_type": "code",
      "metadata": {
        "id": "Qm6LnomrtmLI",
        "colab": {
          "base_uri": "https://localhost:8080/"
        },
        "outputId": "8b90a779-934d-40d6-94db-ba81e9892710"
      },
      "source": [
        "c_values = {\"C\": [0.0001, 0.001, 0.01, 0.1, 1, 10, 100, 1000, 10000]}\n",
        "\n",
        "#Hyper parameter tuning for Logistic regression\n",
        "#your code here \n",
        "def cv_optimize(clf, parameters, X, y, n_folds):\n",
        "\n",
        "    gs = GridSearchCV(clf, param_grid=parameters, cv=n_folds,scoring='accuracy',n_jobs=-1)\n",
        "    gs.fit(X, y)\n",
        "    print(\"BEST\", gs.best_params_, gs.best_score_)\n",
        "    best_model = gs.best_estimator_\n",
        "    best_params= gs.best_params_\n",
        "    return best_model,best_params\n",
        "\n",
        "\n",
        "\n",
        "#Finding the best value of C using GridSearchCV\n",
        "#your code here \n",
        "best_estimate,base_param=cv_optimize(clf=LogisticRegression(max_iter=1000),parameters=c_values,X=X_train,y=y_train,n_folds=10)"
      ],
      "execution_count": null,
      "outputs": [
        {
          "output_type": "stream",
          "text": [
            "BEST {'C': 1000} 0.9721736596736598\n"
          ],
          "name": "stdout"
        }
      ]
    },
    {
      "cell_type": "code",
      "metadata": {
        "id": "dHIumCi6LEQl"
      },
      "source": [
        "#Prediction on the test data\n",
        "y_pred=best_estimate.predict(X_test)"
      ],
      "execution_count": null,
      "outputs": []
    },
    {
      "cell_type": "code",
      "metadata": {
        "id": "u3GJUWetJwVX",
        "colab": {
          "base_uri": "https://localhost:8080/"
        },
        "outputId": "d3c5b8fa-cad8-4deb-882e-dfad7f32ded6"
      },
      "source": [
        "#Print accuracy score of test data\n",
        "\n",
        "#your code here \n",
        "print(f'The accuracy score on the Test data: {best_estimate.score(X_test,y_test) :.2f}')"
      ],
      "execution_count": null,
      "outputs": [
        {
          "output_type": "stream",
          "text": [
            "The accuracy score on the Test data: 0.96\n"
          ],
          "name": "stdout"
        }
      ]
    },
    {
      "cell_type": "code",
      "metadata": {
        "id": "YQ-LU4MbJx6V",
        "colab": {
          "base_uri": "https://localhost:8080/",
          "height": 497
        },
        "outputId": "944e0542-b3b7-459f-f7aa-b417c4d2e91c"
      },
      "source": [
        "#Plot confusion matrix of test data\n",
        "plot_confusion_matrix(y_test, y_pred)"
      ],
      "execution_count": null,
      "outputs": [
        {
          "output_type": "display_data",
          "data": {
            "image/png": "[encoded data removed]",
            "text/plain": [
              "<Figure size 576x576 with 1 Axes>"
            ]
          },
          "metadata": {
            "tags": [],
            "needs_background": "light"
          }
        }
      ]
    },
    {
      "cell_type": "markdown",
      "metadata": {
        "id": "fMcwVRO6tr8V"
      },
      "source": [
        "### Random Forest"
      ]
    },
    {
      "cell_type": "code",
      "metadata": {
        "id": "YxhIBI86ALAg"
      },
      "source": [
        "#Create 2 models with same max_depth and different min_samples_leaf\n",
        "ensemble_clfs = [(1,RandomForestClassifier(warm_start=True, min_samples_leaf=1,oob_score=True,max_depth = 10,random_state=420)),\n",
        "                (5,RandomForestClassifier(warm_start=True, min_samples_leaf=5,oob_score=True,max_depth = 10,random_state=420))]\n",
        "\n",
        "# Map a label (the value of `min_samples_leaf`) to a list of (model, oob error) tuples.\n",
        "error_rate = OrderedDict((label, []) for label, _ in ensemble_clfs)\n",
        "\n",
        "min_estimators = 80\n",
        "max_estimators = 500\n",
        "\n",
        "#Create models for all n_estimators\n",
        "\n",
        "#your code here \n",
        "for label, model in ensemble_clfs:\n",
        "  for i in range(min_estimators,max_estimators+1):\n",
        "    model=model.set_params(n_estimators=i)\n",
        "    model.fit(X_train,y_train)\n",
        "    error_rate[label].append((i,1-model.oob_score_))"
      ],
      "execution_count": null,
      "outputs": []
    },
    {
      "cell_type": "code",
      "metadata": {
        "id": "6cUrsWEoRDzV",
        "colab": {
          "base_uri": "https://localhost:8080/",
          "height": 280
        },
        "outputId": "02f4adec-2b7a-4e0c-95cd-2055d3581d44"
      },
      "source": [
        "\n",
        "#Plot the OOB score vs n_estimators for different min_samples_leaf\n",
        "\n",
        "#your code here \n",
        "for label, clf_err in error_rate.items():\n",
        "    xs, ys = zip(*clf_err)\n",
        "    plt.plot(xs, ys, label=label)\n",
        "\n",
        "plt.xlim(min_estimators, max_estimators)\n",
        "plt.xlabel(\"n_estimators\")\n",
        "plt.ylabel(\"OOB error rate\")\n",
        "plt.legend(loc=\"upper right\")\n",
        "plt.show()"
      ],
      "execution_count": null,
      "outputs": [
        {
          "output_type": "display_data",
          "data": {
            "image/png": "[encoded data removed]",
            "text/plain": [
              "<Figure size 432x288 with 1 Axes>"
            ]
          },
          "metadata": {
            "tags": [],
            "needs_background": "light"
          }
        }
      ]
    },
    {
      "cell_type": "code",
      "metadata": {
        "id": "hbzsYtZUEH6U",
        "colab": {
          "base_uri": "https://localhost:8080/"
        },
        "outputId": "4ee9e6a3-e994-419b-cb1d-ed358d9b50e4"
      },
      "source": [
        "#Find the best model by finding the lowest oob score and print out the min_samples_leaf and n_estimators for that model\n",
        "\n",
        "#your code here \n",
        "best_params=min(error_rate[1],key=lambda t:t[1])\n",
        "best_num_estimators=best_params[0]\n",
        "best_leaf=1\n",
        "print(f'Optimum num of estimators: {best_num_estimators} \\nmin_samples_leaf: {best_leaf}')"
      ],
      "execution_count": null,
      "outputs": [
        {
          "output_type": "stream",
          "text": [
            "Optimum num of estimators: 317 \n",
            "min_samples_leaf: 1\n"
          ],
          "name": "stdout"
        }
      ]
    },
    {
      "cell_type": "code",
      "metadata": {
        "id": "IppOq0s2EpAr",
        "colab": {
          "base_uri": "https://localhost:8080/"
        },
        "outputId": "af981822-49ca-4261-bd2a-a66e6d146cfd"
      },
      "source": [
        "#Build the best model taking the above best parameters\n",
        "\n",
        "#your code here \n",
        "\n",
        "model=RandomForestClassifier(warm_start=True, n_estimators=best_num_estimators,min_samples_leaf=1,oob_score=True,max_depth = 10,random_state=420)\n",
        "model.fit(X_train,y_train)"
      ],
      "execution_count": null,
      "outputs": [
        {
          "output_type": "execute_result",
          "data": {
            "text/plain": [
              "RandomForestClassifier(bootstrap=True, ccp_alpha=0.0, class_weight=None,\n",
              "                       criterion='gini', max_depth=10, max_features='auto',\n",
              "                       max_leaf_nodes=None, max_samples=None,\n",
              "                       min_impurity_decrease=0.0, min_impurity_split=None,\n",
              "                       min_samples_leaf=1, min_samples_split=2,\n",
              "                       min_weight_fraction_leaf=0.0, n_estimators=317,\n",
              "                       n_jobs=None, oob_score=True, random_state=420, verbose=0,\n",
              "                       warm_start=True)"
            ]
          },
          "metadata": {
            "tags": []
          },
          "execution_count": 12
        }
      ]
    },
    {
      "cell_type": "code",
      "metadata": {
        "id": "uw5Q7rbCRLXK",
        "colab": {
          "base_uri": "https://localhost:8080/"
        },
        "outputId": "ccd410e9-5056-46f0-8633-b5f484e91e91"
      },
      "source": [
        "#Print accuracy score of test data\n",
        "#your code here \n",
        "y_pred=model.predict(X_test)\n",
        "print(f'The test accuracy of the Random Forest model is {model.score(X_test,y_test):.2f}')"
      ],
      "execution_count": null,
      "outputs": [
        {
          "output_type": "stream",
          "text": [
            "The test accuracy of the Random Forest model is 0.98\n"
          ],
          "name": "stdout"
        }
      ]
    },
    {
      "cell_type": "code",
      "metadata": {
        "id": "ybF5NAZvROpW",
        "colab": {
          "base_uri": "https://localhost:8080/",
          "height": 497
        },
        "outputId": "479145d9-3865-4f6e-a0d2-08f42f6f6f3a"
      },
      "source": [
        "#Plot confusion matrix of test data\n",
        "plot_confusion_matrix(y_test, y_pred)"
      ],
      "execution_count": null,
      "outputs": [
        {
          "output_type": "display_data",
          "data": {
            "image/png": "[encoded data removed]",
            "text/plain": [
              "<Figure size 576x576 with 1 Axes>"
            ]
          },
          "metadata": {
            "tags": [],
            "needs_background": "light"
          }
        }
      ]
    },
    {
      "cell_type": "markdown",
      "metadata": {
        "id": "D26iVAnAtuor"
      },
      "source": [
        "### Gradient Boosting"
      ]
    },
    {
      "cell_type": "code",
      "metadata": {
        "id": "i2iBk836tv6j",
        "colab": {
          "base_uri": "https://localhost:8080/"
        },
        "outputId": "94eb637a-69c5-4fec-cbb7-e25a2d7319da"
      },
      "source": [
        "%%time\n",
        "n_estimators = 500\n",
        "# We specify that if the scores don't improve by atleast 0.01 for the last 5 stages, stop fitting additional stages\n",
        "#your code here\n",
        "model= GradientBoostingClassifier(n_estimators=n_estimators)\n",
        "model.fit(X_train,y_train)\n",
        "y_pred=model.predict(X_test)"
      ],
      "execution_count": null,
      "outputs": [
        {
          "output_type": "stream",
          "text": [
            "CPU times: user 12.7 s, sys: 11.9 ms, total: 12.8 s\n",
            "Wall time: 12.7 s\n"
          ],
          "name": "stdout"
        }
      ]
    },
    {
      "cell_type": "code",
      "metadata": {
        "id": "4WX-ROZJRcQb",
        "colab": {
          "base_uri": "https://localhost:8080/"
        },
        "outputId": "3cd79f00-b949-4db8-b8f4-50aa1aace0b6"
      },
      "source": [
        "#Predicting on the test data and calculating the accuracy score\n",
        "#your code here\n",
        "model_acc=model.score(X_test,y_test)\n",
        "#Print accuracy score of test data\n",
        "#your code here\n",
        "print('The accuracy of the model on the Test data is',model_acc)"
      ],
      "execution_count": null,
      "outputs": [
        {
          "output_type": "stream",
          "text": [
            "The accuracy of the model on the Test data is 0.9638888888888889\n"
          ],
          "name": "stdout"
        }
      ]
    },
    {
      "cell_type": "code",
      "metadata": {
        "id": "QoBckMd_RoMY",
        "colab": {
          "base_uri": "https://localhost:8080/",
          "height": 497
        },
        "outputId": "4c1dd795-ecbf-4b94-d20c-a3decaeed498"
      },
      "source": [
        "#Plot confusion matrix of test data\n",
        "plot_confusion_matrix(y_test,y_pred)"
      ],
      "execution_count": null,
      "outputs": [
        {
          "output_type": "display_data",
          "data": {
            "image/png": "[encoded data removed]",
            "text/plain": [
              "<Figure size 576x576 with 1 Axes>"
            ]
          },
          "metadata": {
            "tags": [],
            "needs_background": "light"
          }
        }
      ]
    },
    {
      "cell_type": "markdown",
      "metadata": {
        "id": "r2fj_POgRpx0"
      },
      "source": [
        "#### **Optional**"
      ]
    },
    {
      "cell_type": "code",
      "metadata": {
        "id": "Hc76w0RnRwA_",
        "colab": {
          "base_uri": "https://localhost:8080/"
        },
        "outputId": "31074ba3-886e-4782-8e30-03c195d0d2f0"
      },
      "source": [
        "#Create a model with early stopping\n",
        "%%time\n",
        "early_model=GradientBoostingClassifier(n_estimators=n_estimators,n_iter_no_change=5, tol=0.01,validation_fraction=0.1)\n",
        "early_model.fit(X_train,y_train)\n",
        "y_pred=early_model.predict(X_test)"
      ],
      "execution_count": null,
      "outputs": [
        {
          "output_type": "stream",
          "text": [
            "CPU times: user 5.99 s, sys: 5.42 ms, total: 5.99 s\n",
            "Wall time: 6.01 s\n"
          ],
          "name": "stdout"
        }
      ]
    },
    {
      "cell_type": "code",
      "metadata": {
        "colab": {
          "base_uri": "https://localhost:8080/"
        },
        "id": "ZHQa5ZGMtzeo",
        "outputId": "4642b969-a685-4ec5-d285-d53eaf29fd1b"
      },
      "source": [
        "early_model_acc=early_model.score(X_test,y_test)\n",
        "print('The accuracy of the model on the Test data is',early_model_acc)"
      ],
      "execution_count": null,
      "outputs": [
        {
          "output_type": "stream",
          "text": [
            "The accuracy of the model on the Test data is 0.9583333333333334\n"
          ],
          "name": "stdout"
        }
      ]
    },
    {
      "cell_type": "code",
      "metadata": {
        "id": "rAcB3OgEuBQe"
      },
      "source": [
        "model_est=model.n_estimators_\n",
        "early_model_est=early_model.n_estimators_"
      ],
      "execution_count": null,
      "outputs": []
    },
    {
      "cell_type": "code",
      "metadata": {
        "colab": {
          "base_uri": "https://localhost:8080/"
        },
        "id": "zH8SNw-auvmt",
        "outputId": "7835c1e6-0ddc-4573-eba1-fc9fdde61cd4"
      },
      "source": [
        "print(f'The num_estimators used for Boosting model without early stopping is {model_est} and the num estimators for model with early stopping is {early_model_est}')\n",
        "print(f'The time required to run Boosting model without earky stopping is 12.7 secs and for model with early stopping, its 5.99 sec')"
      ],
      "execution_count": null,
      "outputs": [
        {
          "output_type": "stream",
          "text": [
            "The num_estimators used for Boosting model without early stopping is 500 and the num estimators for model with early stopping is 96\n",
            "The time required to run Boosting model without earky stopping is 12.7 secs and for model with early stopping, its 5.99 sec\n"
          ],
          "name": "stdout"
        }
      ]
    },
    {
      "cell_type": "code",
      "metadata": {
        "colab": {
          "base_uri": "https://localhost:8080/",
          "height": 321
        },
        "id": "DXY4R6LTua6g",
        "outputId": "70248d8b-c9c5-4cae-bff4-01dad945ef2b"
      },
      "source": [
        "#Plot the test score for the gradient boosting model with and without early stopping\n",
        "#your code here\n"
      ],
      "execution_count": null,
      "outputs": [
        {
          "output_type": "display_data",
          "data": {
            "image/png": "[encoded data removed]",
            "text/plain": [
              "<Figure size 648x360 with 1 Axes>"
            ]
          },
          "metadata": {
            "tags": [],
            "needs_background": "light"
          }
        }
      ]
    },
    {
      "cell_type": "markdown",
      "metadata": {
        "id": "IQuurQ0sQQAb"
      },
      "source": [
        "Which model did the best?\n",
        "Early stopping model did the best since it achieved almost the same result in less amount of time while also being less computationally intensive. The best test set accuracy is achieved by the Random Forest model, with a test set accuracy of 98%."
      ]
    },
    {
      "cell_type": "markdown",
      "metadata": {
        "id": "MmBwCYK6wpmW"
      },
      "source": [
        "THE  END.<br>\n",
        "Thanks for the read."
      ]
    }
  ]
}